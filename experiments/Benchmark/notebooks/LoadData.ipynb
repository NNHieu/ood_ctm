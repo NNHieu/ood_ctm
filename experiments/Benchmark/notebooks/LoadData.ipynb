{
 "cells": [
  {
   "cell_type": "code",
   "execution_count": 1,
   "metadata": {},
   "outputs": [],
   "source": [
    "%load_ext autoreload\n",
    "%autoreload 2"
   ]
  },
  {
   "cell_type": "code",
   "execution_count": 2,
   "metadata": {},
   "outputs": [],
   "source": [
    "import hydra\n",
    "import settings\n",
    "import os\n",
    "os.chdir(settings.current_file_dir)\n",
    "import torch\n",
    "from torch.utils.data import DataLoader\n",
    "\n",
    "import data\n",
    "\n",
    "import matplotlib.pyplot as plt\n",
    "import numpy as np\n",
    "import seaborn as sns\n",
    "import scipy.cluster.hierarchy as sch\n",
    "from pathlib import Path\n",
    "\n",
    "from PIL import Image\n",
    "\n",
    "import torch.nn.functional as F"
   ]
  },
  {
   "cell_type": "code",
   "execution_count": 3,
   "metadata": {},
   "outputs": [
    {
     "data": {
      "text/plain": [
       "PosixPath('/home/cyanos/Workspace/ood-osa-code/ood-osa-code')"
      ]
     },
     "execution_count": 3,
     "metadata": {},
     "output_type": "execute_result"
    }
   ],
   "source": [
    "settings.root"
   ]
  },
  {
   "cell_type": "code",
   "execution_count": 4,
   "metadata": {},
   "outputs": [],
   "source": [
    "with hydra.initialize(version_base=None, config_path= str('../../..' / settings.hydra_cfg_path.relative_to(settings.root)) ):\n",
    "    cfg = hydra.compose(config_name=\"ood_eval\", return_hydra_config=True, \n",
    "                 overrides=[\"net=densenet\"])"
   ]
  },
  {
   "cell_type": "code",
   "execution_count": 5,
   "metadata": {},
   "outputs": [
    {
     "name": "stdout",
     "output_type": "stream",
     "text": [
      "/home/cyanos/Workspace/pytorch_datasets\n",
      "{'mean': [0.4914, 0.4822, 0.4465], 'std': [0.2023, 0.1994, 0.201]}\n",
      "Using CIFAR-10 as typical data\n"
     ]
    },
    {
     "name": "stderr",
     "output_type": "stream",
     "text": [
      "Dataset was not downloaded /home/cyanos/Workspace/pytorch_datasets/dtd/images\n",
      "Dataset was not downloaded /home/cyanos/Workspace/pytorch_datasets/places365\n"
     ]
    }
   ],
   "source": [
    "# Log config\n",
    "DATA_ROOT = Path(os.environ['TORCH_DATASETS'])\n",
    "print(DATA_ROOT)\n",
    "if 'data_mean' in cfg.net: # set data mean and std\n",
    "    data.NORM_PARAMS[cfg.in_dataset][\"mean\"] = cfg.net.data_mean\n",
    "    data.NORM_PARAMS[cfg.in_dataset][\"std\"] = cfg.net.data_std\n",
    "print(data.NORM_PARAMS[cfg.in_dataset])\n",
    "\n",
    "# Load in-distribution data\n",
    "id_data_dict = data.get_id_datasets_dict(DATA_ROOT, cfg.in_dataset)\n",
    "NUM_CLASSES = id_data_dict['meta']['num_classes']\n",
    "print(f'Using {data.ID2PRINTNAME[cfg.in_dataset]} as typical data')\n",
    "\n",
    "# Load ood data\n",
    "ood_datasets_dict = data.get_ood_datasets_dict(DATA_ROOT, cfg.in_dataset)"
   ]
  },
  {
   "cell_type": "code",
   "execution_count": 12,
   "metadata": {},
   "outputs": [],
   "source": [
    "ood_data = ood_datasets_dict['ds']['far']['iSUN']"
   ]
  },
  {
   "cell_type": "code",
   "execution_count": 15,
   "metadata": {},
   "outputs": [],
   "source": [
    "image, _ = ood_data[0]"
   ]
  },
  {
   "cell_type": "code",
   "execution_count": null,
   "metadata": {},
   "outputs": [],
   "source": []
  }
 ],
 "metadata": {
  "kernelspec": {
   "display_name": "ood",
   "language": "python",
   "name": "python3"
  },
  "language_info": {
   "codemirror_mode": {
    "name": "ipython",
    "version": 3
   },
   "file_extension": ".py",
   "mimetype": "text/x-python",
   "name": "python",
   "nbconvert_exporter": "python",
   "pygments_lexer": "ipython3",
   "version": "3.10.10"
  },
  "orig_nbformat": 4
 },
 "nbformat": 4,
 "nbformat_minor": 2
}
